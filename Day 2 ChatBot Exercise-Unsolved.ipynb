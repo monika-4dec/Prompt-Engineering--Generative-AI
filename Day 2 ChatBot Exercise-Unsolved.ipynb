{
 "cells": [
  {
   "cell_type": "markdown",
   "id": "e20bb94e",
   "metadata": {},
   "source": [
    "# Design any three chatbots"
   ]
  },
  {
   "cell_type": "markdown",
   "id": "6339055b",
   "metadata": {},
   "source": [
    "# 1 **Title: Business Assistant Chatbot**\n",
    "\n",
    "1. **Problem Statement:**\n",
    "   - Design a chatbot to assist users with common business queries and tasks.\n",
    "   - Provide information on company policies, product details, and support services.\n",
    "   - Handle basic tasks like scheduling meetings, setting reminders, and answering FAQs.\n",
    "\n",
    "2. **Solution Overview:**\n",
    "   - Use NLTK library in Python to create a chatbot.\n",
    "   - Define chat pairs or tkinter moduel for different types of queries and tasks.\n",
    "   - Implement functionality to interact with users and provide relevant responses.\n",
    "\n",
    "3. **Expected Outcome:**\n",
    "   - A user-friendly chatbot that enhances customer experience and reduces the workload on support staff.\n",
    "   - Improved efficiency in handling routine business inquiries and tasks.\n",
    "   - Enhanced user satisfaction and engagement with the company's services.\n",
    "\n"
   ]
  },
  {
   "cell_type": "code",
   "execution_count": 3,
   "id": "ac5cf751",
   "metadata": {},
   "outputs": [],
   "source": [
    "#Write your Code here"
   ]
  },
  {
   "cell_type": "markdown",
   "id": "19b7517b",
   "metadata": {},
   "source": [
    "# 2**Title: Project Management Support Chatbot**\n",
    "\n",
    "1. **Problem Statement:**\n",
    "   - Design a chatbot to assist with project planning, task management, resource allocation, and progress tracking.\n",
    "   - Improve project management processes and overall project efficiency for users.\n",
    "\n",
    "2. **Solution Overview:**\n",
    "   - Utilize NLTK library in Python to create an interactive chatbot.\n",
    "   - Define chat pairs for various project management queries and tasks, offering guidance and solutions to users."
   ]
  },
  {
   "cell_type": "code",
   "execution_count": 4,
   "id": "e4ed4c51",
   "metadata": {},
   "outputs": [],
   "source": [
    "#Write your Code here"
   ]
  },
  {
   "cell_type": "markdown",
   "id": "8ca111ef",
   "metadata": {},
   "source": [
    "# 3 Tech Support Chatbot\n",
    "\n",
    "- Design a chatbot to provide technical support for a software product, assisting users with troubleshooting, installation, and configuration.\n",
    "- Incorporate features to handle common user queries, such as system requirements, updates, and best practices.\n",
    "- Implement functionality for users to escalate complex issues to human support if necessary."
   ]
  },
  {
   "cell_type": "code",
   "execution_count": 5,
   "id": "e4421274",
   "metadata": {},
   "outputs": [],
   "source": [
    "#Write your Code here"
   ]
  },
  {
   "cell_type": "markdown",
   "id": "37461a71",
   "metadata": {},
   "source": [
    "# 4 OPD Support ChatBot"
   ]
  },
  {
   "cell_type": "markdown",
   "id": "592235fd",
   "metadata": {},
   "source": [
    "- Develop a chatbot for a hospital's OPD appointment system to assist patients in booking, rescheduling, and canceling appointments.\n",
    "- Provide information on OPD timings, required documents, specialties available for consultation, and consultation fees.\n",
    "- Ensure the chatbot can handle new patient registrations and provide general information about the hospital's OPD services."
   ]
  },
  {
   "cell_type": "code",
   "execution_count": 6,
   "id": "239392d7",
   "metadata": {},
   "outputs": [],
   "source": [
    "#Write your Code here"
   ]
  }
 ],
 "metadata": {
  "kernelspec": {
   "display_name": "Python 3 (ipykernel)",
   "language": "python",
   "name": "python3"
  },
  "language_info": {
   "codemirror_mode": {
    "name": "ipython",
    "version": 3
   },
   "file_extension": ".py",
   "mimetype": "text/x-python",
   "name": "python",
   "nbconvert_exporter": "python",
   "pygments_lexer": "ipython3",
   "version": "3.9.13"
  }
 },
 "nbformat": 4,
 "nbformat_minor": 5
}
